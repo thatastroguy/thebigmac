{
 "cells": [
  {
   "cell_type": "code",
   "execution_count": 2,
   "id": "d0c43a24",
   "metadata": {},
   "outputs": [],
   "source": [
    "# Load in packages for pandas, astropy, etc. \n",
    "\n",
    "import numpy as np\n",
    "import pandas as pd\n",
    "import matplotlib.pyplot as plt\n",
    "from astropy.io import fits\n",
    "from astropy.table import Table\n",
    "from astropy.io import ascii\n",
    "from astropy.table import Column, MaskedColumn\n",
    "from astropy.io.ascii import masked\n",
    "from astropy import units as u\n",
    "from astropy.coordinates import SkyCoord\n",
    "from astropy.cosmology import LambdaCDM \n",
    "from astroquery.simbad import Simbad\n",
    "from astroquery.sdss import SDSS\n",
    "from astropy.coordinates import match_coordinates_sky\n",
    "import os \n",
    "import json \n",
    "\n",
    "cosmo = LambdaCDM(H0=70, Om0=0.3, Ode0=0.7) #Creating our choice of cosmology here...\n",
    "\n",
    "pd.set_option('display.max_columns', 300) # Setting max number of rows per df to be the size of the df\n",
    "pd.set_option('display.max_rows', None)\n",
    "\n",
    "\n"
   ]
  },
  {
   "cell_type": "code",
   "execution_count": 3,
   "id": "f3d826e6",
   "metadata": {},
   "outputs": [],
   "source": [
    "# here we are working in a new notebook to make things a bit cleaner and easier\n",
    "\n",
    "# we'll be working on formatting the analysis and confirmation methods columns in this notebook, reading in the \\\n",
    "# formatted version from the formatting_DR0p5 notebook.\n",
    "\n",
    "# as of Feb 6/7, I am now keeping track of the various changes I make to the confirmation and analysis methods \\\n",
    "# columns....\n",
    "\n",
    "\n",
    "\n"
   ]
  },
  {
   "cell_type": "code",
   "execution_count": 4,
   "id": "8dea32e6",
   "metadata": {},
   "outputs": [],
   "source": [
    "# reading in the formatted version DR0p8\n",
    "MAC = pd.read_csv('MAC_DR0p8_formatted.csv', sep=',')\n"
   ]
  },
  {
   "cell_type": "code",
   "execution_count": null,
   "id": "cd98842e",
   "metadata": {},
   "outputs": [],
   "source": []
  },
  {
   "cell_type": "code",
   "execution_count": 6,
   "id": "b69f7b9c",
   "metadata": {},
   "outputs": [],
   "source": [
    "# now we'll work to format the selection methodology cell\n",
    "\n",
    "# Step 2 and 3: Remove duplicates and alphabetize for each cell\n",
    "def process_cell(cell):\n",
    "    # Remove duplicates using set and then convert back to list\n",
    "    unique_labels = list(set(cell))\n",
    "    # Alphabetize the contents\n",
    "    unique_labels.sort()\n",
    "    return unique_labels\n",
    "\n",
    "#types = MAC['Selection Method'].dropna().str.split(' / ')\n",
    "#processed_types = types.apply(process_cell)\n",
    "## Step 4: Join the contents back into a single string\n",
    "#MAC['Processed Selection Method'] = processed_types.apply(' / '.join)\n",
    "\n",
    "types = MAC['Analysis Method'].dropna().str.split(' / ')\n",
    "processed_types = types.apply(process_cell)\n",
    "MAC['Processed Analysis Method'] = processed_types.apply(' / '.join)\n",
    "\n",
    "types = MAC['Confirmation Method'].str.split(' / ')\n",
    "arg = types.to_list()\n",
    "processed_types = types.apply(process_cell)\n",
    "MAC['Processed Confirmation Method'] = processed_types.apply(' / '.join)\n",
    "# Display the updated DataFrame\n",
    "#print(MAC[['Processed Selection Method']])"
   ]
  },
  {
   "cell_type": "code",
   "execution_count": null,
   "id": "94ce9895",
   "metadata": {},
   "outputs": [],
   "source": [
    "methods = MAC['Processed Selection Method'].dropna().str.split(' / ')\n",
    "\n",
    "# Flatten the lists and find unique labels\n",
    "unique_methods = set(method for sublist in methods for method in sublist)\n",
    "\n",
    "print(\"Unique selection methods:\", unique_methods)\n",
    "print(len(unique_methods))\n",
    "\n"
   ]
  },
  {
   "cell_type": "code",
   "execution_count": 7,
   "id": "588c7a6b",
   "metadata": {},
   "outputs": [
    {
     "name": "stdout",
     "output_type": "stream",
     "text": [
      "Unique Analysis methods: {'', 'Optical Imaging', 'Rejected by Barth+2018', 'Centroid Shift Analysis', 'Radio Periodicity', 'Source Proper Motion', 'NIR Imaging', 'Optical Colors', 'UV Imaging', 'Optical imaging', 'near-UV Spectroscopy', 'Radio Imaging', 'Optical LOS Radial Velocity Shifts', 'Gamma-Ray Quasi-Periodicity', 'Near-IR IFU Spectroscopy', 'Near-IR Positional Offset', 'EVLA Radio Imaging', 'Near-IR Spectroscopy', 'Multi-Object Optical Spectroscopy', 'Double-Peaked Optical Spectroscopic Emission Lines', 'Gamma-Ray Periodicity', 'Astrometry', 'Modeling', 'Optical Long-Slit Spectroscopy', 'Optical Astrometry', 'Optical Spectroscopy Emission Line Ratios', 'Spectropolarimetry', 'Double-Peaked Broad Optical Spectroscopic Emission Lines', 'UV Spectroscopy', 'Optical Quasi-Periodicity', 'Optical Positional Offset', 'Optical Narrow-Band Imaging', 'Optical Velocity Offset Broad Spectroscopic Emission Lines', 'Infrared Luminosity', 'Hard X-ray Spectroscopy', 'Optical IFU Spectroscopy', 'X-Shaped Radio Source', 'Submm Observations', 'Fiber Spectroscopy', 'Hard X-ray BAT Selection', 'Grating Optical Spectroscopy', 'Mid-IR Imaging', 'X-ray Imaging', 'Varstrometry', 'Optical Slitless Spectroscopy', 'X-ray Positional Offset', 'X-ray Periodicity', 'Double-Peaked Narrow UV Spectroscopic Emission Lines', 'Radio Quasi-Periodicity', 'Optical Photometry', 'Radio Double Sources', 'Submillimeter Imaging', 'Near-IR Slit Spectroscopy', 'Optical Periodicity', 'IFU Near-IR Spectroscopy', 'IFU Near-IR Imaging', 'Hard X-ray Imaging', 'Fiber Optical Spectroscopy', 'SED Fitting', 'Mid-IR Spectroscopy', '-99', 'X-ray Spectroscopy', 'Near-IR Quasi-Periodicity', 'X-ray Quasi-Periodicity', 'Optical IFU Imaging', 'Near-IR Imaging', 'X-ray imaging', 'Hard X-ray Periodicity', 'Optical Fiber Spectroscopy', 'Velocity Offset Broad Optical Spectroscopic Emission Lines', 'Radio Double Jet', 'Mid-IR Colors', 'Optical-Mid-IR Colors', 'Radio-Infrared Colors', 'Double Radio Sources', 'X-ray Spectroscopy and Imaging', 'Optical Slit Spectroscopy', 'Optical Spectroscopy', 'Radio-Optical Offsets', 'Near-IR Periodicity', 'IFU Optical Spectroscopy', 'Possible Double cores+twin jets', 'Near-IR Colors', 'Slit Spectroscopy', 'Long-Slit Optical Spectroscopy', 'LOS Radial Velocity Shifts', 'Velocity Offset Narrow Optical Spectroscopic Emission Lines', 'Slit Optical Spectroscopy', 'Velocity Offset Emission Lines', ' X-ray Imaging', 'Serendipitous', 'Optical Spectroscopic Emission Line Ratios', 'Radio Jet Precession', 'nan'}\n",
      "94\n"
     ]
    }
   ],
   "source": [
    "methods = MAC['Processed Analysis Method'].dropna().str.split(' / ')\n",
    "\n",
    "# Flatten the lists and find unique labels\n",
    "unique_methods = set(method for sublist in methods for method in sublist)\n",
    "\n",
    "print(\"Unique Analysis methods:\", unique_methods)\n",
    "print(len(unique_methods))"
   ]
  },
  {
   "cell_type": "code",
   "execution_count": 8,
   "id": "50c8fffe",
   "metadata": {},
   "outputs": [
    {
     "name": "stdout",
     "output_type": "stream",
     "text": [
      "Unique Confirmation methods: {'', 'Optical Imaging', 'Submillimeter Imaging', 'UV Spectroscopy', 'IFU Near-IR Spectroscopy', 'Centroid Shift Analysis', 'X-ray Spectroscopy and Imaging', 'Optical Slit Spectroscopy', 'Optical Spectroscopy', 'Optical Narrow-Band Imaging', 'IFU Near-IR Imaging', 'Hard X-ray Spectroscopy', 'NIR Imaging', 'Optical Colors', 'Optical IFU Spectroscopy', 'UV Imaging', 'Slit Spectroscopy', 'Near-IR Colors', 'near-UV Spectroscopy', 'Radio Imaging', 'Submm Observations', 'Fiber Spectroscopy', 'Hard X-ray Imaging', 'EVLA Radio Imaging', 'Fiber Optical Spectroscopy', 'Mid-IR Spectroscopy', 'Grating Optical Spectroscopy', 'Mid-IR Imaging', 'X-ray Imaging', 'Near-IR Spectroscopy', '-99', 'X-ray Spectroscopy', 'Slit Optical Spectroscopy', 'Double-Peaked Optical Spectroscopic Emission Lines', 'Optical Slitless Spectroscopy', ' X-ray Imaging', 'Optical IFU Imaging', 'Near-IR Imaging', 'Optical Spectroscopic Emission Line Ratios', 'Optical Photometry', 'Optical Long-Slit Spectroscopy', 'Optical Fiber Spectroscopy', 'Spectropolarimetry', 'Mid-IR Colors'}\n",
      "44\n"
     ]
    }
   ],
   "source": [
    "methods = MAC['Processed Confirmation Method'].dropna().str.split(' / ')\n",
    "\n",
    "# Flatten the lists and find unique labels\n",
    "unique_methods = set(method for sublist in methods for method in sublist)\n",
    "\n",
    "print(\"Unique Confirmation methods:\", unique_methods)\n",
    "print(len(unique_methods))"
   ]
  },
  {
   "cell_type": "code",
   "execution_count": null,
   "id": "a5294ce2",
   "metadata": {},
   "outputs": [],
   "source": [
    "methods = ['Near-IR Slit Spectroscopy', 'Optical LOS Radial Velocity Shifts', 'Radio-Infrared Colors', 'Optical Narrow-Band Imaging', 'Optical Astrometry', 'Near-IR Periodicity', 'X-ray Periodicity', 'BAT Selection', 'Optical Colors', 'Gamma-Ray Periodicity', 'Mid-IR Imaging', 'Optical Double-Peaked Spectroscopic Emission Lines', 'Optical Photometry', 'Optical Slit Spectroscopy', 'Optical Quasi-Periodicity', 'Optical Spectroscopic Emission Line Ratios', 'Hard X-ray Periodicity', 'Optical Varstrometry', 'Optical Fiber Spectroscopy', 'Positional Offset', 'UV Spectroscopy', 'Radio Periodicity', 'Submillimeter Imaging', 'Radio Double Sources', 'Optical Velocity Offset Broad Spectroscopic Emission Lines', 'X-ray Spectroscopy', 'Optical-Mid-IR Colors', 'Optical IFU Spectroscopy', 'Mid-IR Spectroscopy', 'Optical Periodicity', 'Gamma-Ray Quasi-Periodicity', 'Optical Spectroscopy', 'Modeling', 'Radio X-Shaped Source', 'UV Imaging', 'Near-IR Imaging', 'Infrared Luminosity', 'X-ray Quasi-Periodicity', 'Optical Double-Peaked Broad Spectroscopic Emission Lines', 'Radio-Optical Offsets', 'Near-IR Quasi-Periodicity', 'Radio Double Jet', 'Radio Imaging', 'Optical Velocity Offset Narrow Spectroscopic Emission Lines', 'Serendipitous', 'UV Double-Peaked Narrow Spectroscopic Emission Lines', 'Optical Imaging', 'Optical IFU Imaging', 'X-ray Imaging', 'Optical Slitless Spectroscopy', 'Near-IR Spectroscopy', 'Optical Long-Slit Spectroscopy', 'Mid-IR Colors', 'Near-IR Colors', 'Velocity Offset Emission Lines', 'Radio Quasi-Periodicity', 'Radio Jet Precession']\n",
    "\n",
    "\n",
    "\n",
    "for i in methods:\n",
    "    num = 0\n",
    "    for index,row in MAC.iterrows():\n",
    "        if i in row['Processed Selection Method']:\n",
    "            num += 1\n",
    "        else:\n",
    "            num += 0\n",
    "    print(\"Method \"+str(i)+\" identified \"+str(num)+\" times!\")\n",
    "\n",
    "\n",
    "\n"
   ]
  },
  {
   "cell_type": "code",
   "execution_count": null,
   "id": "cfedec59",
   "metadata": {},
   "outputs": [],
   "source": [
    "methods = ['Near-IR Slit Spectroscopy', 'Optical LOS Radial Velocity Shifts', 'Radio-Infrared Colors', 'Optical Narrow-Band Imaging', 'Optical Astrometry', 'Near-IR Periodicity', 'X-ray Periodicity', 'BAT Selection', 'Optical Colors', 'Gamma-Ray Periodicity', 'Mid-IR Imaging', 'Optical Double-Peaked Spectroscopic Emission Lines', 'Optical Photometry', 'Optical Slit Spectroscopy', 'Optical Quasi-Periodicity', 'Optical Spectroscopic Emission Line Ratios', 'Hard X-ray Periodicity', 'Optical Varstrometry', 'Optical Fiber Spectroscopy', 'Positional Offset', 'UV Spectroscopy', 'Radio Periodicity', 'Submillimeter Imaging', 'Radio Double Sources', 'Optical Velocity Offset Broad Spectroscopic Emission Lines', 'X-ray Spectroscopy', 'Optical-Mid-IR Colors', 'Optical IFU Spectroscopy', 'Mid-IR Spectroscopy', 'Optical Periodicity', 'Gamma-Ray Quasi-Periodicity', 'Optical Spectroscopy', 'Modeling', 'Radio X-Shaped Source', 'UV Imaging', 'Near-IR Imaging', 'Infrared Luminosity', 'X-ray Quasi-Periodicity', 'Optical Double-Peaked Broad Spectroscopic Emission Lines', 'Radio-Optical Offsets', 'Near-IR Quasi-Periodicity', 'Radio Double Jet', 'Radio Imaging', 'Optical Velocity Offset Narrow Spectroscopic Emission Lines', 'Serendipitous', 'UV Double-Peaked Narrow Spectroscopic Emission Lines', 'Optical Imaging', 'Optical IFU Imaging', 'X-ray Imaging', 'Optical Slitless Spectroscopy', 'Near-IR Spectroscopy', 'Optical Long-Slit Spectroscopy', 'Mid-IR Colors', 'Near-IR Colors', 'Velocity Offset Emission Lines', 'Radio Quasi-Periodicity', 'Radio Jet Precession']\n",
    "\n",
    "\n",
    "\n",
    "for i in methods:\n",
    "    num = 0\n",
    "    for index,row in MAC.iterrows():\n",
    "        if i in row['Processed Selection Method']:\n",
    "            num += 1\n",
    "        else:\n",
    "            num += 0\n",
    "    print(\"Method \"+str(i)+\" identified \"+str(num)+\" times!\")\n",
    "\n",
    "\n",
    "\n"
   ]
  },
  {
   "cell_type": "code",
   "execution_count": null,
   "id": "19e2182f",
   "metadata": {},
   "outputs": [],
   "source": []
  },
  {
   "cell_type": "code",
   "execution_count": null,
   "id": "a269fdd0",
   "metadata": {},
   "outputs": [],
   "source": []
  }
 ],
 "metadata": {
  "kernelspec": {
   "display_name": "Python 3 (ipykernel)",
   "language": "python",
   "name": "python3"
  },
  "language_info": {
   "codemirror_mode": {
    "name": "ipython",
    "version": 3
   },
   "file_extension": ".py",
   "mimetype": "text/x-python",
   "name": "python",
   "nbconvert_exporter": "python",
   "pygments_lexer": "ipython3",
   "version": "3.9.12"
  }
 },
 "nbformat": 4,
 "nbformat_minor": 5
}
